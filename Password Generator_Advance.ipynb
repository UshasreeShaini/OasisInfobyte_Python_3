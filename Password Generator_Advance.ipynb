{
 "cells": [
  {
   "cell_type": "markdown",
   "id": "920af507-970e-407c-8998-ec13ff8c3789",
   "metadata": {},
   "source": [
    "**Password Generator_Advance Model**\n"
   ]
  },
  {
   "cell_type": "code",
   "execution_count": 4,
   "id": "9f2a6271-86bb-4594-af29-857b4b1a8d6d",
   "metadata": {},
   "outputs": [
    {
     "name": "stdout",
     "output_type": "stream",
     "text": [
      "Collecting pyperclip\n",
      "  Downloading pyperclip-1.9.0.tar.gz (20 kB)\n",
      "  Preparing metadata (setup.py): started\n",
      "  Preparing metadata (setup.py): finished with status 'done'\n",
      "Building wheels for collected packages: pyperclip\n",
      "  Building wheel for pyperclip (setup.py): started\n",
      "  Building wheel for pyperclip (setup.py): finished with status 'done'\n",
      "  Created wheel for pyperclip: filename=pyperclip-1.9.0-py3-none-any.whl size=11020 sha256=e5d5a83195a8b10ffd10d47cdc28e864d2e9083d8cdeef10ddf13dbf49a80393\n",
      "  Stored in directory: c:\\users\\ushasree\\appdata\\local\\pip\\cache\\wheels\\e0\\e8\\fc\\8ab8aa326e33bc066ccd5f3ca9646eab4299881af933f94f09\n",
      "Successfully built pyperclip\n",
      "Installing collected packages: pyperclip\n",
      "Successfully installed pyperclip-1.9.0\n"
     ]
    }
   ],
   "source": [
    "!pip install pyperclip\n"
   ]
  },
  {
   "cell_type": "code",
   "execution_count": 8,
   "id": "c46bc2bc-54f4-445d-8dab-eccc035412a0",
   "metadata": {},
   "outputs": [
    {
     "name": "stdout",
     "output_type": "stream",
     "text": [
      "Requirement already satisfied: tk in c:\\users\\ushasree\\anaconda3\\lib\\site-packages (0.1.0)\n"
     ]
    }
   ],
   "source": [
    "!pip install tk\n"
   ]
  },
  {
   "cell_type": "code",
   "execution_count": null,
   "id": "846a8cd8-467a-4ea2-84e4-0fd6df315864",
   "metadata": {},
   "outputs": [],
   "source": [
    "import tkinter as tk\n",
    "from tkinter import messagebox\n",
    "import random\n",
    "import string\n",
    "import pyperclip\n",
    "\n",
    "class PasswordGenerator:\n",
    "    def __init__(self, root):\n",
    "        self.root = root\n",
    "        self.root.title(\"Password Generator\")\n",
    "\n",
    "        self.length_label = tk.Label(root, text=\"Password Length:\")\n",
    "        self.length_label.pack()\n",
    "        self.length_entry = tk.Entry(root)\n",
    "        self.length_entry.pack()\n",
    "\n",
    "        self.letters_var = tk.BooleanVar()\n",
    "        self.numbers_var = tk.BooleanVar()\n",
    "        self.symbols_var = tk.BooleanVar()\n",
    "\n",
    "        self.letters_check = tk.Checkbutton(root, text=\"Include Letters\", variable=self.letters_var)\n",
    "        self.letters_check.pack()\n",
    "        self.numbers_check = tk.Checkbutton(root, text=\"Include Numbers\", variable=self.numbers_var)\n",
    "        self.numbers_check.pack()\n",
    "        self.symbols_check = tk.Checkbutton(root, text=\"Include Symbols\", variable=self.symbols_var)\n",
    "        self.symbols_check.pack()\n",
    "\n",
    "        self.generate_button = tk.Button(root, text=\"Generate Password\", command=self.generate_password)\n",
    "        self.generate_button.pack()\n",
    "\n",
    "        self.result_label = tk.Label(root, text=\"\")\n",
    "        self.result_label.pack()\n",
    "\n",
    "        self.copy_button = tk.Button(root, text=\"Copy to Clipboard\", command=self.copy_to_clipboard)\n",
    "        self.copy_button.pack()\n",
    "\n",
    "    def generate_password(self):\n",
    "        try:\n",
    "            length = int(self.length_entry.get())\n",
    "            include_letters = self.letters_var.get()\n",
    "            include_numbers = self.numbers_var.get()\n",
    "            include_symbols = self.symbols_var.get()\n",
    "\n",
    "            if length <= 0:\n",
    "                raise ValueError(\"Password length must be a positive number\")\n",
    "\n",
    "            character_set = \"\"\n",
    "            if include_letters:\n",
    "                character_set += string.ascii_letters\n",
    "            if include_numbers:\n",
    "                character_set += string.digits\n",
    "            if include_symbols:\n",
    "                character_set += string.punctuation\n",
    "\n",
    "            if not character_set:\n",
    "                raise ValueError(\"At least one character type must be selected\")\n",
    "\n",
    "            password = ''.join(random.choice(character_set) for _ in range(length))\n",
    "            self.result_label.config(text=f\"Generated Password: {password}\")\n",
    "        except ValueError as e:\n",
    "            messagebox.showerror(\"Invalid input\", str(e))\n",
    "\n",
    "    def copy_to_clipboard(self):\n",
    "        password = self.result_label.cget(\"text\").replace(\"Generated Password: \", \"\")\n",
    "        if password:\n",
    "            pyperclip.copy(password)\n",
    "            messagebox.showinfo(\"Copied\", \"Password copied to clipboard\")\n",
    "        else:\n",
    "            messagebox.showerror(\"Error\", \"No password to copy\")\n",
    "\n",
    "if __name__ == \"__main__\":\n",
    "    root = tk.Tk()\n",
    "    app = PasswordGenerator(root)\n",
    "    root.mainloop()\n"
   ]
  },
  {
   "cell_type": "code",
   "execution_count": null,
   "id": "a4b6bd8a-7225-4e7e-b8ca-c320ebcbaa7d",
   "metadata": {},
   "outputs": [],
   "source": [
    "import threading\n",
    "\n",
    "def start_tkinter_app():\n",
    "    root = tk.Tk()\n",
    "    app = PasswordGenerator(root)\n",
    "    root.mainloop()\n",
    "\n",
    "thread = threading.Thread(target=start_tkinter_app)\n",
    "thread.start()\n"
   ]
  },
  {
   "cell_type": "code",
   "execution_count": null,
   "id": "8ab0cd3c-cc3c-4327-b1b6-0114d9c3d000",
   "metadata": {},
   "outputs": [],
   "source": []
  }
 ],
 "metadata": {
  "kernelspec": {
   "display_name": "Python 3 (ipykernel)",
   "language": "python",
   "name": "python3"
  },
  "language_info": {
   "codemirror_mode": {
    "name": "ipython",
    "version": 3
   },
   "file_extension": ".py",
   "mimetype": "text/x-python",
   "name": "python",
   "nbconvert_exporter": "python",
   "pygments_lexer": "ipython3",
   "version": "3.12.4"
  }
 },
 "nbformat": 4,
 "nbformat_minor": 5
}
