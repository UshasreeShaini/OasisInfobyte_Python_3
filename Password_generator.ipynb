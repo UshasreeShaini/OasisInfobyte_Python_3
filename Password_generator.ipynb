{
 "cells": [
  {
   "cell_type": "markdown",
   "id": "534a457d-5a5f-4e3a-8e93-308e6f677ae9",
   "metadata": {},
   "source": [
    "**Password Generator**"
   ]
  },
  {
   "cell_type": "code",
   "execution_count": 2,
   "id": "1c2e67f3-d35a-4837-9128-4ca8375875cb",
   "metadata": {},
   "outputs": [
    {
     "name": "stdin",
     "output_type": "stream",
     "text": [
      "Enter the password length:  8\n",
      "Include letters? (yes/no):  yes\n",
      "Include numbers? (yes/no):  yes\n",
      "Include symbols? (yes/no):  yes\n"
     ]
    },
    {
     "name": "stdout",
     "output_type": "stream",
     "text": [
      "Generated Password: UR,.84$Y\n"
     ]
    }
   ],
   "source": [
    "import random\n",
    "import string\n",
    "\n",
    "def generate_password(length, include_letters, include_numbers, include_symbols):\n",
    "    character_set = \"\"\n",
    "    if include_letters:\n",
    "        character_set += string.ascii_letters\n",
    "    if include_numbers:\n",
    "        character_set += string.digits\n",
    "    if include_symbols:\n",
    "        character_set += string.punctuation\n",
    "    \n",
    "    if not character_set:\n",
    "        raise ValueError(\"At least one character type must be selected\")\n",
    "    \n",
    "    password = ''.join(random.choice(character_set) for _ in range(length))\n",
    "    return password\n",
    "\n",
    "def get_password_input():\n",
    "    try:\n",
    "        length = int(input(\"Enter the password length: \"))\n",
    "        include_letters = input(\"Include letters? (yes/no): \").strip().lower() == 'yes'\n",
    "        include_numbers = input(\"Include numbers? (yes/no): \").strip().lower() == 'yes'\n",
    "        include_symbols = input(\"Include symbols? (yes/no): \").strip().lower() == 'yes'\n",
    "        \n",
    "        password = generate_password(length, include_letters, include_numbers, include_symbols)\n",
    "        return f\"Generated Password: {password}\"\n",
    "    except ValueError as e:\n",
    "        return f\"Invalid input: {e}\"\n",
    "\n",
    "# Generate a password\n",
    "print(get_password_input())\n"
   ]
  },
  {
   "cell_type": "code",
   "execution_count": null,
   "id": "0ff81ee6-deae-41ba-bfed-7b152b1b0129",
   "metadata": {},
   "outputs": [],
   "source": []
  }
 ],
 "metadata": {
  "kernelspec": {
   "display_name": "Python 3 (ipykernel)",
   "language": "python",
   "name": "python3"
  },
  "language_info": {
   "codemirror_mode": {
    "name": "ipython",
    "version": 3
   },
   "file_extension": ".py",
   "mimetype": "text/x-python",
   "name": "python",
   "nbconvert_exporter": "python",
   "pygments_lexer": "ipython3",
   "version": "3.12.4"
  }
 },
 "nbformat": 4,
 "nbformat_minor": 5
}
